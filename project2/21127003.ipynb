{
 "cells": [
  {
   "cell_type": "markdown",
   "id": "9cab4b1e",
   "metadata": {},
   "source": [
    "# <center>Image Processing Project</center>"
   ]
  },
  {
   "cell_type": "markdown",
   "id": "87331ebf",
   "metadata": {},
   "source": [
    "- Sinh viên: Phan Thanh An\n",
    "- Mã số sinh viên: 21127003\n",
    "- Lớp: 21CLC07"
   ]
  },
  {
   "cell_type": "markdown",
   "id": "b12fb9a8",
   "metadata": {},
   "source": [
    "## Mục lục\n",
    "* [1. Import các thư viện được phép sử dụng](#c1)\n",
    "* [2. Implement ImageProcessor Class](#c2)\n",
    "    * [2.1. ChangeBrightness Class](#c21)\n",
    "    * [2.2. ChangeContrast Class](#c22)\n",
    "    * [2.3. FlipImage Class](#c23)\n",
    "    * [2.4. GrayScaleImage Class](#c24)\n",
    "* [3. Các function phụ trợ cho chương trình main](#c3)\n",
    "* [4. Chương trình main](#c4)"
   ]
  },
  {
   "cell_type": "markdown",
   "id": "4ebb3029",
   "metadata": {},
   "source": []
  },
  {
   "cell_type": "markdown",
   "id": "9646b906",
   "metadata": {},
   "source": [
    "## <a class=\"anchor\" id=\"c1\">1. Import các thư viện được phép sử dụng</a>"
   ]
  },
  {
   "cell_type": "code",
   "execution_count": 1,
   "id": "514f7e8e",
   "metadata": {},
   "outputs": [],
   "source": [
    "import numpy as np\n",
    "from PIL import Image\n",
    "import matplotlib.pyplot as plt"
   ]
  },
  {
   "cell_type": "markdown",
   "id": "9e67c733",
   "metadata": {},
   "source": [
    "## <a class=\"anchor\" id=\"c2\">2. Implement ImageProcessor class</a>\n",
    "\n",
    "Class ImageProcessor được cài để phục vụ cho việc đọc ảnh và thiết lập thông số ```cmap``` dùng để hiển thị ảnh thông ```imshow``` của ```matplotlib.pyplot```. Ngoài ra class này còn được dùng để cài đặt một số function thông dụng như:\n",
    "- ```compare_images(self, new_img, title=\"\")```: dùng để hiển thị đồng thời ảnh gốc và ảnh mới được ra để so sánh\n",
    "- ```save_image(self, img, name)```: dùng để lưu ảnh với ```file_name``` là tham số"
   ]
  },
  {
   "cell_type": "code",
   "execution_count": 2,
   "id": "97edf5fa",
   "metadata": {},
   "outputs": [],
   "source": [
    "class ImageProcessor:\n",
    "    def __init__(self, img, cmp='viridis'):\n",
    "        '''\n",
    "        Initialize ImageProcessor with an input image.\n",
    "\n",
    "        Inputs:\n",
    "          img : PngImageFile or Image object\n",
    "            Original image in PNG format\n",
    "        '''\n",
    "        # Convert PIL Image to NumPy array\n",
    "        if not isinstance(img, np.ndarray):\n",
    "            img = np.array(img)\n",
    "\n",
    "        self.img = img\n",
    "        self.cmp = cmp\n",
    "\n",
    "    def compare_images(self, new_img, title=\"\"):\n",
    "        '''\n",
    "        Compare the original image with a new image side by side.\n",
    "\n",
    "        Inputs:\n",
    "          new_img : np.ndarray\n",
    "            New image to be shown on the right side for comparison\n",
    "          title : str\n",
    "            Title for the figure (optional)\n",
    "        Outputs:\n",
    "          None (Displays the comparison plot using matplotlib)\n",
    "        '''\n",
    "        \n",
    "        fig, (ax1, ax2) = plt.subplots(1, 2, figsize=(12, 5))\n",
    "        fig.suptitle(title, fontsize=16)\n",
    "\n",
    "        ax1.imshow(self.img)\n",
    "        ax1.set_title(\"Before\")\n",
    "\n",
    "        ax2.imshow(new_img, cmap=self.cmp)\n",
    "\n",
    "        ax2.set_title(\"After\")\n",
    "        plt.show()\n",
    "        \n",
    "    def save_image(self, img, file_name):\n",
    "        save_img = Image.fromarray(img.astype('uint8'))\n",
    "        save_img.save(\"output/\" + file_name)"
   ]
  },
  {
   "cell_type": "markdown",
   "id": "e3ec689e",
   "metadata": {},
   "source": [
    "### <a class=\"anchor\" id=\"c21\">2.1. ChangeBrightness Class</a>"
   ]
  },
  {
   "cell_type": "code",
   "execution_count": 3,
   "id": "6b7539dd",
   "metadata": {},
   "outputs": [],
   "source": [
    "class ChangeBrightness(ImageProcessor):\n",
    "    def __init__(self, img):\n",
    "        ImageProcessor.__init__(self, img)\n",
    "\n",
    "    def change_brightness(self, factor):\n",
    "        '''\n",
    "        Change brightness of the image by a specific factor.\n",
    "\n",
    "        Inputs:\n",
    "          factor : float\n",
    "            Factor by which you want to change brightness (should be > 0)\n",
    "\n",
    "        Outputs:\n",
    "          new_img : np.ndarray\n",
    "            Image after changing its brightness\n",
    "        '''\n",
    "        new_img = self.img * factor\n",
    "        new_img = np.maximum(np.minimum(self.img * factor, 255), 0).astype(np.uint8)\n",
    "        return new_img"
   ]
  },
  {
   "cell_type": "markdown",
   "id": "7e437ee3",
   "metadata": {},
   "source": [
    "### <a class=\"anchor\" id=\"c22\">2.2. ChangeContrast Class</a>"
   ]
  },
  {
   "cell_type": "code",
   "execution_count": 4,
   "id": "ed5b9854",
   "metadata": {},
   "outputs": [],
   "source": [
    "class ChangeContrast(ImageProcessor):\n",
    "    def __init__(self, img):\n",
    "        ImageProcessor.__init__(self, img)\n",
    "\n",
    "    def change_contrast(self, factor):\n",
    "        '''\n",
    "        Change contrast of the image by a specific factor.\n",
    "\n",
    "        Inputs:\n",
    "          factor : float\n",
    "            Factor by which you want to change contrast (should be > 0)\n",
    "\n",
    "        Outputs:\n",
    "          new_img : np.ndarray\n",
    "            Image after changing its contrast\n",
    "        '''\n",
    "        new_img = (self.img - np.mean(self.img)) * factor + np.mean(self.img)\n",
    "        new_img = np.clip(new_img, 0, 255).astype(np.uint8)\n",
    "        return new_img"
   ]
  },
  {
   "cell_type": "markdown",
   "id": "4996340e",
   "metadata": {},
   "source": [
    "### <a class=\"anchor\" id=\"c23\">2.3. FlipImage Class</a>"
   ]
  },
  {
   "cell_type": "code",
   "execution_count": 5,
   "id": "6261c815",
   "metadata": {},
   "outputs": [],
   "source": [
    "class FlipImage(ImageProcessor):\n",
    "    def __init__(self, img):\n",
    "        ImageProcessor.__init__(self, img)\n",
    "\n",
    "\n",
    "    def flip_image(self, mode=\"horizontal\"):\n",
    "        '''\n",
    "        Flip the image horizontally or vertically.\n",
    "\n",
    "        Inputs:\n",
    "          mode : str\n",
    "            Flip mode, \"horizontal\" or \"vertical\" (default=\"horizontal\")\n",
    "\n",
    "        Outputs:\n",
    "          new_img : np.ndarray\n",
    "            Flipped image\n",
    "        '''\n",
    "        if mode == \"horizontal\":\n",
    "            new_img = np.fliplr(self.img) # flipped horizontally (left to right)\n",
    "        elif mode == \"vertical\":\n",
    "            new_img = np.flipud(self.img) # flipped vertically (upside down\n",
    "        else:\n",
    "            raise ValueError(\"Invalid flip mode. Use 'horizontal' or 'vertical'.\")\n",
    "\n",
    "        return new_img"
   ]
  },
  {
   "cell_type": "markdown",
   "id": "28ca8b23",
   "metadata": {},
   "source": [
    "### <a class=\"anchor\" id=\"c24\">2.4. GrayScaleImage Class</a>"
   ]
  },
  {
   "cell_type": "code",
   "execution_count": 6,
   "id": "aaca2925",
   "metadata": {},
   "outputs": [],
   "source": [
    "class GrayScaleImage(ImageProcessor):\n",
    "    def __init__(self, img, cmp='gray'):\n",
    "        ImageProcessor.__init__(self, img, cmp)\n",
    "    \n",
    "    def to_grayscale(self):\n",
    "        '''\n",
    "        Convert the image to grayscale.\n",
    "\n",
    "        Outputs:\n",
    "          grayscale_img : np.ndarray\n",
    "            Grayscale version of the image\n",
    "        '''\n",
    "        if len(self.img.shape) == 3 and self.img.shape[2] == 3:\n",
    "            # Convert RGB to grayscale using luminance formula\n",
    "            grayscale_img = np.dot(self.img[..., :3], [0.2989, 0.5870, 0.1140])\n",
    "        else:\n",
    "            raise ValueError(\"The input image is not in RGB format.\")\n",
    "\n",
    "        return grayscale_img.astype(np.uint8)"
   ]
  },
  {
   "cell_type": "code",
   "execution_count": 7,
   "id": "8ef63102",
   "metadata": {},
   "outputs": [],
   "source": [
    "class SebiaImage(ImageProcessor):\n",
    "    def __init__(self, img):\n",
    "        ImageProcessor.__init__(self, img)\n",
    "    \n",
    "    def to_sebia(self):\n",
    "        '''\n",
    "        Convert image from rgb to sebia image\n",
    "        Inputs:\n",
    "            img : np.ndarray\n",
    "            Original image in ndarray format\n",
    "        Outputs:\n",
    "            new_img : np.ndarray\n",
    "            Image after being converted into sebia\n",
    "          '''\n",
    "        # https://dyclassroom.com/image-processing-project/how-to-convert-a-color-image-into-sepia-image\n",
    "        tr = np.dot(self.img,  [0.393, 0.769, 0.189])\n",
    "        tg = np.dot(self.img,  [0.349, 0.686, 0.168])\n",
    "        tb = np.dot(self.img,  [0.272, 0.534, 0.131])\n",
    "        new_img = np.clip(np.dstack((tr, tg, tb)), 0, 255).astype(int)\n",
    "        return new_img"
   ]
  },
  {
   "cell_type": "code",
   "execution_count": 35,
   "id": "c0f11485",
   "metadata": {},
   "outputs": [],
   "source": [
    "class BlurImage(ImageProcessor):\n",
    "    def __init__(self, img, cmp='gray'):\n",
    "        ImageProcessor.__init__(self, img, cmp)\n",
    "        \n",
    "    def blur_image(self):\n",
    "        '''\n",
    "        Blur image using a box blur kernel.\n",
    "\n",
    "        Inputs:\n",
    "          img : np.ndarray\n",
    "            Original image in ndarray format\n",
    "\n",
    "        Outputs:\n",
    "          new_img : np.ndarray\n",
    "            Image after being blurred\n",
    "        '''\n",
    "        # Define the box blur kernel\n",
    "        kernel = (1 / 9) * np.ones((3, 3))  # 3x3 kernel with equal weights\n",
    "\n",
    "        # Reshape the kernel to ensure consistent dimensions\n",
    "        if kernel.ndim == 2:\n",
    "            kernel = np.reshape(kernel, kernel.shape + (1,))\n",
    "\n",
    "        # Determine kernel dimensions and padding\n",
    "        kernel_height, kernel_width = kernel.shape[:2]\n",
    "        pad_height, pad_width = kernel_height // 2, kernel_width // 2\n",
    "\n",
    "        # Get the dimensions of the input image\n",
    "        img_h, img_w = self.img.shape[:2]\n",
    "\n",
    "        # Pad the image to handle border pixels using the \"wrap\" mode\n",
    "        padded_img = np.pad(self.img, [(pad_height, pad_height), (pad_width, pad_width), (0, 0)], mode='wrap')\n",
    "\n",
    "        # Create an empty array for the blurred image\n",
    "        new_img = np.zeros(self.img.shape)\n",
    "\n",
    "        # Iterate through each pixel in the image\n",
    "        for y in range(img_h):\n",
    "            for x in range(img_w):\n",
    "                # Extract the local window around the pixel\n",
    "                window = padded_img[y: y + kernel_height, x: x + kernel_width]\n",
    "\n",
    "                # Compute the weighted sum of pixel values using the kernel\n",
    "                new_pixel = np.sum(window * kernel, axis=(0, 1))\n",
    "\n",
    "                # Assign the computed value to the corresponding pixel in the new image\n",
    "                new_img[y][x] = new_pixel\n",
    "\n",
    "        # Convert the blurred image to integers\n",
    "        return new_img.astype(int)"
   ]
  },
  {
   "cell_type": "markdown",
   "id": "5dfd1eba",
   "metadata": {},
   "source": [
    "##  <a class=\"anchor\" id=\"c3\">3. Các function phụ trợ cho chương trình ```main```</a>"
   ]
  },
  {
   "cell_type": "code",
   "execution_count": 36,
   "id": "ef34fdd4",
   "metadata": {},
   "outputs": [],
   "source": [
    "def change_brightness(img_path):\n",
    "    img = Image.open(img_path)\n",
    "    \n",
    "    process = ChangeBrightness(img)\n",
    "    brightness_img = process.change_brightness(1.5)\n",
    "    output_name = img_path.rsplit('.', 1)[0] + \"_brightness.png\"\n",
    "    process.save_image(brightness_img, output_name)\n",
    "    process.compare_images(brightness_img, 'Change Brightness')\n",
    "    print(\"Ảnh được lưu ở\", \"output/\" + output_name)"
   ]
  },
  {
   "cell_type": "code",
   "execution_count": 37,
   "id": "73dfb51f",
   "metadata": {},
   "outputs": [],
   "source": [
    "def change_contrast(img_path):\n",
    "    img = Image.open(img_path)\n",
    "    \n",
    "    process = ChangeContrast(img)\n",
    "    contrast_img = process.change_contrast(1.8)\n",
    "    output_name = img_path.rsplit('.', 1)[0] + \"_contrast.png\"\n",
    "    process.save_image(contrast_img, output_name)\n",
    "    process.compare_images(contrast_img, 'Change Contrast')\n",
    "    print(\"Ảnh được lưu ở\", \"output/\" + output_name)"
   ]
  },
  {
   "cell_type": "code",
   "execution_count": 38,
   "id": "950bafad",
   "metadata": {},
   "outputs": [],
   "source": [
    "def flip_image(img_path, enable_choice=True):\n",
    "    img = Image.open(img_path)\n",
    "    choice = 1\n",
    "    if enable_choice:\n",
    "        choice = int(input(\"\"\"Nhập lựa chọn: \n",
    "                        \\n 1. Lật ngang\n",
    "                        \\n 2. Lật dọc\\n Lựa chọn: \"\"\"))\n",
    "    \n",
    "    process = FlipImage(img)\n",
    "    \n",
    "    if enable_choice == False:\n",
    "        flip_img = process.flip_image(mode=\"horizontal\")\n",
    "        output_name = img_path.rsplit('.', 1)[0] + \"_flip_horizontal.png\"\n",
    "        process.save_image(flip_img, output_name)\n",
    "        process.compare_images(flip_img, 'Flip Horizontal')\n",
    "        print(\"Ảnh được lưu ở\", \"output/\" + output_name)\n",
    "        \n",
    "        flip_img = process.flip_image(mode=\"vertical\")\n",
    "        output_name = img_path.rsplit('.', 1)[0] + \"_flip_vertical.png\"\n",
    "        process.save_image(flip_img, output_name)\n",
    "        process.compare_images(flip_img, 'Flip Vertical')\n",
    "        print(\"Ảnh được lưu ở\", \"output/\" + output_name)\n",
    "    elif enable_choice == True:\n",
    "        if choice == 1:\n",
    "            flip_img = process.flip_image(mode=\"horizontal\")\n",
    "            output_name = img_path.rsplit('.', 1)[0] + \"_flip_horizontal.png\"\n",
    "            process.save_image(flip_img, output_name)\n",
    "            process.compare_images(flip_img, 'Flip Horizontal')\n",
    "            print(\"Ảnh được lưu ở\", \"output/\" + output_name)\n",
    "\n",
    "        elif choice == 2:\n",
    "            flip_img = process.flip_image(mode=\"vertical\")\n",
    "            output_name = img_path.rsplit('.', 1)[0] + \"_flip_vertical.png\"\n",
    "            process.save_image(flip_img, output_name)\n",
    "            process.compare_images(flip_img, 'Flip Vertical')\n",
    "            print(\"Ảnh được lưu ở\", \"output/\" + output_name)"
   ]
  },
  {
   "cell_type": "code",
   "execution_count": 39,
   "id": "ee8516e5",
   "metadata": {},
   "outputs": [],
   "source": [
    "def gray_scale_image(img_path):\n",
    "    img = Image.open(img_path)\n",
    "    \n",
    "    process = GrayScaleImage(img)\n",
    "    grayscale_img = process.to_grayscale()\n",
    "    output_name = img_path.rsplit('.', 1)[0] + \"_grayscale.png\"\n",
    "    process.save_image(grayscale_img, output_name)\n",
    "    process.compare_images(grayscale_img, 'Gray Scale')\n",
    "    print(\"Ảnh được lưu ở\", \"output/\" + output_name)"
   ]
  },
  {
   "cell_type": "code",
   "execution_count": 40,
   "id": "08d33fe4",
   "metadata": {},
   "outputs": [],
   "source": [
    "def sebia_image(img_path):\n",
    "    img = Image.open(img_path)\n",
    "    \n",
    "    process = SebiaImage(img)\n",
    "    sebia_img = process.to_sebia()\n",
    "    output_name = img_path.rsplit('.', 1)[0] + \"_sebia.png\"\n",
    "    process.save_image(sebia_img, output_name)\n",
    "    process.compare_images(sebia_img, 'Sebia')\n",
    "    print(\"Ảnh được lưu ở\", \"output/\" + output_name)"
   ]
  },
  {
   "cell_type": "code",
   "execution_count": 41,
   "id": "e7c6e2e8",
   "metadata": {},
   "outputs": [],
   "source": [
    "def blur_image(img_path):\n",
    "    img = Image.open(img_path)\n",
    "    \n",
    "    process = BlurImage(img)\n",
    "    sebia_img = process.blur_image()\n",
    "    output_name = img_path.rsplit('.', 1)[0] + \"_sebia.png\"\n",
    "    process.save_image(sebia_img, output_name)\n",
    "    process.compare_images(sebia_img, 'Sebia')\n",
    "    print(\"Ảnh được lưu ở\", \"output/\" + output_name)"
   ]
  },
  {
   "cell_type": "markdown",
   "id": "017f5a43",
   "metadata": {},
   "source": [
    "##  <a class=\"anchor\" id=\"c4\">4. Chương trình ```main```</a>"
   ]
  },
  {
   "cell_type": "markdown",
   "id": "fa4e580e",
   "metadata": {
    "scrolled": false
   },
   "source": [
    "# main function\n",
    "if __name__ == \"__main__\":\n",
    "    img_path = input(\"Nhập vào đường dẫn ảnh (vd: penguin.png): \")\n",
    "    try:\n",
    "        choice = int(input(\"\"\"\\nNhập lựa chọn: \n",
    "                            \\n 0. Chạy tất cả chức năng\n",
    "                            \\n 1. Thay đổi độ sáng cho ảnh\n",
    "                            \\n 2. Thay đổi độ tương phản\n",
    "                            \\n 3. Lật ảnh (ngang - dọc)\n",
    "                            \\n 4. Chuyển đổi ảnh RGB thành ảnh xám/sepia\n",
    "                            \\n 5. Làm mờ/sắc nét ảnh\n",
    "                            \\n 6. Cắt ảnh theo kích thước (cắt ở trung tâm)\n",
    "                            \\n 7. Cắt ảnh theo khung hình tròn\n",
    "                            \\n Lựa chọn: \"\"\"))\n",
    "        \n",
    "        if choice == 0:\n",
    "            change_brightness(img_path)\n",
    "            change_contrast(img_path)\n",
    "            flip_image(img_path, enable_choice=False)\n",
    "            gray_scale_image(img_path)\n",
    "            sebia_image(img_path)\n",
    "            blur_image(img_path)\n",
    "        elif choice == 1:\n",
    "            change_brightness(img_path)\n",
    "        elif choice == 2:\n",
    "            change_contrast(img_path)\n",
    "        elif choice == 3:\n",
    "            flip_image(img_path)\n",
    "        elif choice == 4:\n",
    "            gray_scale_image(img_path)\n",
    "            sebia_image(img_path)\n",
    "        elif choice == 5:\n",
    "            blur_image(img_path)\n",
    "    except:\n",
    "        raise SystemExit(\"Đường dẫn không hợp lệ\")\n"
   ]
  },
  {
   "cell_type": "code",
   "execution_count": null,
   "id": "fad6cd45",
   "metadata": {},
   "outputs": [],
   "source": []
  }
 ],
 "metadata": {
  "kernelspec": {
   "display_name": "Python 3 (ipykernel)",
   "language": "python",
   "name": "python3"
  },
  "language_info": {
   "codemirror_mode": {
    "name": "ipython",
    "version": 3
   },
   "file_extension": ".py",
   "mimetype": "text/x-python",
   "name": "python",
   "nbconvert_exporter": "python",
   "pygments_lexer": "ipython3",
   "version": "3.10.9"
  }
 },
 "nbformat": 4,
 "nbformat_minor": 5
}
